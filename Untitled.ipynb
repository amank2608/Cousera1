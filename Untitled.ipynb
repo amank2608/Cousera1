{
 "cells": [
  {
   "cell_type": "markdown",
   "id": "c3d1573e",
   "metadata": {},
   "source": [
    "Title of the  Notebook"
   ]
  },
  {
   "cell_type": "markdown",
   "id": "226ba78a",
   "metadata": {},
   "source": [
    "## introducion\n",
    "This notebook explores various exercises in data science, including markdown usage, basic arithmetic operations, and code examples."
   ]
  },
  {
   "cell_type": "markdown",
   "id": "9560fad8",
   "metadata": {},
   "source": [
    "## Data Science Languages\n",
    "1. Python\n",
    "2. R\n",
    "3. Julia"
   ]
  },
  {
   "cell_type": "markdown",
   "id": "660ddd68",
   "metadata": {},
   "source": [
    "## Data Science Libraries\n",
    "1. NumPy\n",
    "2. Pandas\n",
    "3. Scikit-Learn\n",
    "4. TensorFlow\n",
    "5. PyTorch"
   ]
  },
  {
   "cell_type": "markdown",
   "id": "e9719ab8",
   "metadata": {},
   "source": [
    "## Data Science Tools Table\n",
    "Tool          Description               \n",
    "Jupyter       Interactive computing            \n",
    "VS Code       Integrated development environment\n",
    "Git           Version control system            \n"
   ]
  },
  {
   "cell_type": "markdown",
   "id": "7d4ecd20",
   "metadata": {},
   "source": [
    "## Introduction to Arithmetic Expressions\n",
    "In this section, we will explore examples of basic arithmetic expressions using Python.\n"
   ]
  },
  {
   "cell_type": "code",
   "execution_count": 2,
   "id": "a05bd133",
   "metadata": {},
   "outputs": [
    {
     "name": "stdout",
     "output_type": "stream",
     "text": [
      "11\n"
     ]
    }
   ],
   "source": [
    "result = 2 * 3 + 5\n",
    "print(result)"
   ]
  },
  {
   "cell_type": "code",
   "execution_count": 3,
   "id": "0f8932f5",
   "metadata": {},
   "outputs": [
    {
     "name": "stdout",
     "output_type": "stream",
     "text": [
      "2.0\n"
     ]
    }
   ],
   "source": [
    "minutes = 120\n",
    "hours = minutes / 60\n",
    "print(hours)"
   ]
  },
  {
   "cell_type": "code",
   "execution_count": null,
   "id": "dfc3a982",
   "metadata": {},
   "outputs": [],
   "source": []
  }
 ],
 "metadata": {
  "kernelspec": {
   "display_name": "Python 3 (ipykernel)",
   "language": "python",
   "name": "python3"
  },
  "language_info": {
   "codemirror_mode": {
    "name": "ipython",
    "version": 3
   },
   "file_extension": ".py",
   "mimetype": "text/x-python",
   "name": "python",
   "nbconvert_exporter": "python",
   "pygments_lexer": "ipython3",
   "version": "3.11.5"
  }
 },
 "nbformat": 4,
 "nbformat_minor": 5
}
